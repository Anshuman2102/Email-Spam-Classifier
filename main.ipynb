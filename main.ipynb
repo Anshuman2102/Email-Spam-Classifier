{
 "cells": [
  {
   "cell_type": "markdown",
   "id": "d488ea9a-27a1-4971-9152-eccf81e48a54",
   "metadata": {},
   "source": [
    "## Importing Dependencies"
   ]
  },
  {
   "cell_type": "code",
   "execution_count": 7,
   "id": "396bc799-86bd-407b-9fb5-3aaec584d8e8",
   "metadata": {},
   "outputs": [
    {
     "name": "stderr",
     "output_type": "stream",
     "text": [
      "C:\\Users\\ASUS\\AppData\\Local\\Temp\\ipykernel_7964\\2236285787.py:2: DeprecationWarning: \n",
      "Pyarrow will become a required dependency of pandas in the next major release of pandas (pandas 3.0),\n",
      "(to allow more performant data types, such as the Arrow string type, and better interoperability with other libraries)\n",
      "but was not found to be installed on your system.\n",
      "If this would cause problems for you,\n",
      "please provide us feedback at https://github.com/pandas-dev/pandas/issues/54466\n",
      "        \n",
      "  import pandas as pd\n"
     ]
    }
   ],
   "source": [
    "import numpy as np\n",
    "import pandas as pd\n",
    "from sklearn.model_selection import train_test_split\n",
    "from sklearn.preprocessing import StandardScaler\n",
    "from sklearn.linear_model import LogisticRegression\n",
    "from sklearn.feature_extraction.text import TfidfVectorizer\n",
    "from sklearn.metrics import accuracy_score"
   ]
  },
  {
   "cell_type": "markdown",
   "id": "0c5c58eb-1991-4c47-b12d-ae822247f0d1",
   "metadata": {},
   "source": [
    "## Data Loading Module"
   ]
  },
  {
   "cell_type": "code",
   "execution_count": 8,
   "id": "b6a95d44-1cc5-4174-9e20-c6c7adeeb2af",
   "metadata": {
    "tags": []
   },
   "outputs": [],
   "source": [
    "def load_data(file_path):\n",
    "    # Loading data from csv file to Dataframe\n",
    "    data = pd.read_csv(file_path)\n",
    "    \n",
    "    return data"
   ]
  },
  {
   "cell_type": "markdown",
   "id": "5088abd6-b9ed-4bae-a7ed-55031d727d1e",
   "metadata": {},
   "source": [
    "## Data Preprocessing Module"
   ]
  },
  {
   "cell_type": "code",
   "execution_count": 9,
   "id": "aa78d6b5-ad19-4c80-9e94-1bc010f52b2a",
   "metadata": {
    "tags": []
   },
   "outputs": [],
   "source": [
    "def preprocess_data(data):\n",
    "    # Dropping null values\n",
    "    data = data.dropna()\n",
    "\n",
    "    # Encoding labels\n",
    "    # Ham mails: 0\n",
    "    # Spam mails: 1\n",
    "    data.loc[data['Category'] == 'ham', 'Category'] = 0\n",
    "    data.loc[data['Category'] == 'spam', 'Category'] = 1\n",
    "    \n",
    "    return data"
   ]
  },
  {
   "cell_type": "markdown",
   "id": "b57a6ea7-4050-41a4-a673-079b191003bd",
   "metadata": {},
   "source": [
    "## Data Splitting Module"
   ]
  },
  {
   "cell_type": "code",
   "execution_count": 10,
   "id": "7244b5ce-2615-4157-9dcb-e1e16c4729c5",
   "metadata": {
    "tags": []
   },
   "outputs": [],
   "source": [
    "def split_dataset(data):\n",
    "    # Separating data as texts and labels\n",
    "    X = data['Message']\n",
    "    Y = data['Category']\n",
    "\n",
    "    # Splitting data into training set and test set\n",
    "    X_train, X_test, Y_train, Y_test = train_test_split(X, Y, test_size=0.2, random_state=13)\n",
    "    \n",
    "    # Converting Y_train and Y_test to integers\n",
    "    Y_train = Y_train.astype('int')\n",
    "    Y_test = Y_test.astype('int')\n",
    "    \n",
    "    return X_train, X_test, Y_train, Y_test"
   ]
  },
  {
   "cell_type": "markdown",
   "id": "dee17c8e-06b8-4bae-ac26-a4dcf351a49d",
   "metadata": {},
   "source": [
    "## Feature Extraction Module"
   ]
  },
  {
   "cell_type": "code",
   "execution_count": 11,
   "id": "e7013334-4045-4f60-9293-339ec00ec192",
   "metadata": {},
   "outputs": [],
   "source": [
    "def extract_features(train, test):\n",
    "    # Transforming text data into feature vectors which can be inputted into the Logistic Regression model\n",
    "    extractor = TfidfVectorizer(min_df=1, stop_words='english', lowercase=True)\n",
    "\n",
    "    train = extractor.fit_transform(train)\n",
    "    test = extractor.transform(test)\n",
    "\n",
    "    return train, test, extractor"
   ]
  },
  {
   "cell_type": "markdown",
   "id": "722dbc29-28bf-49f0-ad6b-20cfd41c0f7b",
   "metadata": {},
   "source": [
    "## Model Training Module"
   ]
  },
  {
   "cell_type": "code",
   "execution_count": 12,
   "id": "fac72be7-8883-48f6-9284-cdacfed9a14e",
   "metadata": {},
   "outputs": [],
   "source": [
    "def train_logistic_regression(X, Y):\n",
    "    # Training a Logistic Regression model with data\n",
    "    model = LogisticRegression()\n",
    "    model.fit(X, Y)\n",
    "\n",
    "    return model"
   ]
  },
  {
   "cell_type": "markdown",
   "id": "5772026a-6a8e-486d-a304-50aa251d3657",
   "metadata": {},
   "source": [
    "## Model Evaluation Module"
   ]
  },
  {
   "cell_type": "code",
   "execution_count": 13,
   "id": "4bc8054e-8cda-4c66-8b70-456778b1ad3e",
   "metadata": {},
   "outputs": [],
   "source": [
    "def evaluate_model(X, Y, classifier):\n",
    "    # Predicting using training data and finding accuracy\n",
    "    Y_prediction = classifier.predict(X)\n",
    "    Y_accuracy = accuracy_score(Y, Y_prediction)\n",
    "\n",
    "    return Y_accuracy"
   ]
  },
  {
   "cell_type": "markdown",
   "id": "3eecbfb9-3df8-461d-a411-46c84ea0c01a",
   "metadata": {},
   "source": [
    "## Outputting Module"
   ]
  },
  {
   "cell_type": "code",
   "execution_count": 14,
   "id": "d4b1d71e-b41c-4c03-bf9d-a6a93c23563c",
   "metadata": {},
   "outputs": [],
   "source": [
    "def output_prediction(prediction):\n",
    "    if prediction[0] == 0:\n",
    "        print('The mail was not flagged as spam.')\n",
    "    else:\n",
    "        print('The mail was flagged as spam.')"
   ]
  },
  {
   "cell_type": "markdown",
   "id": "c0f96cf3-2755-40be-a5ff-d95c740837fb",
   "metadata": {},
   "source": [
    "# Building a Predictive System\n",
    "## - Training and Evaluating Logistic Regression model"
   ]
  },
  {
   "cell_type": "code",
   "execution_count": 15,
   "id": "acfc7ea0-0130-4f33-9b50-f605eef551e9",
   "metadata": {},
   "outputs": [
    {
     "name": "stdout",
     "output_type": "stream",
     "text": [
      "Accuracy on Training Data:  0.9681400044873233\n",
      "Accuracy on Test Data:  0.9560538116591928\n"
     ]
    }
   ],
   "source": [
    "data = load_data('mails.csv')\n",
    "\n",
    "data = preprocess_data(data)\n",
    "\n",
    "X_train, X_test, Y_train, Y_test = split_dataset(data)\n",
    "\n",
    "X_train, X_test, extractor = extract_features(X_train, X_test)\n",
    "\n",
    "model = train_logistic_regression(X_train, Y_train)\n",
    "\n",
    "print('Accuracy on Training Data: ', evaluate_model(X_train, Y_train, model))\n",
    "\n",
    "print('Accuracy on Test Data: ', evaluate_model(X_test, Y_test, model))"
   ]
  },
  {
   "cell_type": "markdown",
   "id": "5fb8011a-5ad7-4cbb-9338-c9b746fe2a57",
   "metadata": {},
   "source": [
    "## - Implementing UI"
   ]
  },
  {
   "cell_type": "code",
   "execution_count": 16,
   "id": "8e5611b9-475b-4267-afd5-33211409d7d2",
   "metadata": {},
   "outputs": [
    {
     "name": "stdin",
     "output_type": "stream",
     "text": [
      " call on this number\n"
     ]
    },
    {
     "name": "stdout",
     "output_type": "stream",
     "text": [
      "The mail was not flagged as spam.\n"
     ]
    }
   ],
   "source": [
    "# Taking input mail from user\n",
    "input_mail = [input()]\n",
    "\n",
    "# Converting the text in the mail to feature vectors\n",
    "input_mail_features = extractor.transform(input_mail)\n",
    "\n",
    "# Making prediction\n",
    "prediction = model.predict(input_mail_features)\n",
    "\n",
    "output_prediction(prediction)"
   ]
  },
  {
   "cell_type": "code",
   "execution_count": null,
   "id": "680f2869-6d1b-4cb4-8117-8d991f4f108f",
   "metadata": {},
   "outputs": [],
   "source": []
  },
  {
   "cell_type": "code",
   "execution_count": null,
   "id": "30fd9d8e-5d9a-41e1-a9de-1b680b234324",
   "metadata": {},
   "outputs": [],
   "source": []
  }
 ],
 "metadata": {
  "kernelspec": {
   "display_name": "Python 3 (ipykernel)",
   "language": "python",
   "name": "python3"
  },
  "language_info": {
   "codemirror_mode": {
    "name": "ipython",
    "version": 3
   },
   "file_extension": ".py",
   "mimetype": "text/x-python",
   "name": "python",
   "nbconvert_exporter": "python",
   "pygments_lexer": "ipython3",
   "version": "3.12.1"
  }
 },
 "nbformat": 4,
 "nbformat_minor": 5
}
